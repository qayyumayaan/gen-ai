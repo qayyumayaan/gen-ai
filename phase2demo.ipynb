{
 "cells": [
  {
   "cell_type": "code",
   "execution_count": 2,
   "metadata": {},
   "outputs": [
    {
     "data": {
      "text/plain": [
       "True"
      ]
     },
     "execution_count": 2,
     "metadata": {},
     "output_type": "execute_result"
    }
   ],
   "source": [
    "from dotenv import load_dotenv\n",
    "load_dotenv()"
   ]
  },
  {
   "cell_type": "code",
   "execution_count": 3,
   "metadata": {},
   "outputs": [],
   "source": [
    "from langchain.schema import HumanMessage\n",
    "from langchain_openai import ChatOpenAI"
   ]
  },
  {
   "cell_type": "code",
   "execution_count": 4,
   "metadata": {},
   "outputs": [],
   "source": [
    "from langchain.text_splitter import CharacterTextSplitter\n",
    "from langchain_community.document_loaders import TextLoader\n",
    "from langchain_community.vectorstores import OpenSearchVectorSearch\n",
    "from langchain_openai import OpenAIEmbeddings\n",
    "\n",
    "\n",
    "loader = TextLoader(\"art_of_war.txt\")\n",
    "documents = loader.load()\n",
    "text_splitter = CharacterTextSplitter(chunk_size=1000, chunk_overlap=0)\n",
    "docs = text_splitter.split_documents(documents)\n",
    "\n",
    "embeddings = OpenAIEmbeddings()"
   ]
  },
  {
   "cell_type": "markdown",
   "metadata": {},
   "source": [
    "Similarity Search demonstration. "
   ]
  },
  {
   "cell_type": "code",
   "execution_count": 5,
   "metadata": {},
   "outputs": [],
   "source": [
    "docsearch = OpenSearchVectorSearch.from_documents(\n",
    "    docs,\n",
    "    embeddings,\n",
    "    opensearch_url=\"https://localhost:9200\",\n",
    "    http_auth=(\"admin\", \"admin\"),\n",
    "    use_ssl = False,\n",
    "    verify_certs = False,\n",
    "    ssl_assert_hostname = False,\n",
    "    ssl_show_warn = False,\n",
    "    engine=\"faiss\",\n",
    "    space_type=\"innerproduct\",\n",
    "    ef_construction=256,\n",
    "    m=48,\n",
    ")"
   ]
  },
  {
   "cell_type": "code",
   "execution_count": 6,
   "metadata": {},
   "outputs": [
    {
     "name": "stdout",
     "output_type": "stream",
     "text": [
      "23. Throw your soldiers into positions whence there is no escape,\n",
      "and they will prefer death to flight. If they will face death, there\n",
      "is nothing they may not achieve. Officers and men alike will put forth\n",
      "their uttermost strength. \n",
      "\n",
      "24. Soldiers when in desperate straits lose the sense of fear. If\n",
      "there is no place of refuge, they will stand firm. If they are in\n",
      "hostile country, they will show a stubborn front. If there is no help\n",
      "for it, they will fight hard. \n",
      "\n",
      "25. Thus, without waiting to be marshaled, the soldiers will be constantly\n",
      "on the qui vive; without waiting to be asked, they will do your will;\n",
      "without restrictions, they will be faithful; without giving orders,\n",
      "they can be trusted. \n",
      "\n",
      "26. Prohibit the taking of omens, and do away with superstitious doubts.\n",
      "Then, until death itself comes, no calamity need be feared.\n",
      "Similarity search using FAISS took 0.40 seconds.\n"
     ]
    }
   ],
   "source": [
    "import time\n",
    "\n",
    "query = \"What can one do about being prepared to fight?\"\n",
    "\n",
    "# Record the start time\n",
    "start_time = time.time()\n",
    "\n",
    "# Perform the similarity search\n",
    "docs = docsearch.similarity_search(query, k=10)\n",
    "\n",
    "# Calculate the elapsed time\n",
    "elapsed_time = time.time() - start_time\n",
    "\n",
    "print(docs[0].page_content)\n",
    "\n",
    "print(\"Similarity search using FAISS took {:.2f} seconds.\".format(elapsed_time))"
   ]
  },
  {
   "cell_type": "markdown",
   "metadata": {},
   "source": [
    "This program uses the OpenSearch Docker instance, the python 3.12 virtual environment, and TextLoader to load the documents from a text file, generates embeddings, and indexes using OpenSearch. \n",
    "\n",
    "The system is now set up to perform semantic searches using OpenSearch. The document embeddings are indexed and can be queried to find semantically relevant results based on the vector space model.\n",
    "\n",
    "What remains to be done is to replace FAISS with an index that supports the KNN search algorithm, namely by leveraging NMSLIB. "
   ]
  },
  {
   "cell_type": "code",
   "execution_count": 7,
   "metadata": {},
   "outputs": [],
   "source": [
    "from langchain_community.document_loaders import TextLoader\n",
    "from langchain_openai import OpenAIEmbeddings\n",
    "from langchain.text_splitter import CharacterTextSplitter\n",
    "from langchain_community.vectorstores import OpenSearchVectorSearch"
   ]
  },
  {
   "cell_type": "code",
   "execution_count": 8,
   "metadata": {},
   "outputs": [],
   "source": [
    "docsearch = OpenSearchVectorSearch.from_documents(\n",
    "    docs,\n",
    "    embeddings,\n",
    "    opensearch_url=\"https://localhost:9200\",\n",
    "    http_auth=(\"admin\", \"admin\"),\n",
    "    use_ssl = False,\n",
    "    verify_certs = False,\n",
    "    ssl_assert_hostname = False,\n",
    "    ssl_show_warn = False,\n",
    "    engine = \"nmslib\",\n",
    "    space_type=\"innerproduct\",\n",
    "    ef_construction=256,\n",
    "    m=48,\n",
    ")"
   ]
  },
  {
   "cell_type": "code",
   "execution_count": 9,
   "metadata": {},
   "outputs": [
    {
     "name": "stdout",
     "output_type": "stream",
     "text": [
      "23. Throw your soldiers into positions whence there is no escape,\n",
      "and they will prefer death to flight. If they will face death, there\n",
      "is nothing they may not achieve. Officers and men alike will put forth\n",
      "their uttermost strength. \n",
      "\n",
      "24. Soldiers when in desperate straits lose the sense of fear. If\n",
      "there is no place of refuge, they will stand firm. If they are in\n",
      "hostile country, they will show a stubborn front. If there is no help\n",
      "for it, they will fight hard. \n",
      "\n",
      "25. Thus, without waiting to be marshaled, the soldiers will be constantly\n",
      "on the qui vive; without waiting to be asked, they will do your will;\n",
      "without restrictions, they will be faithful; without giving orders,\n",
      "they can be trusted. \n",
      "\n",
      "26. Prohibit the taking of omens, and do away with superstitious doubts.\n",
      "Then, until death itself comes, no calamity need be feared.\n",
      "Similarity search using NMSLIB took 0.16 seconds.\n"
     ]
    }
   ],
   "source": [
    "import time\n",
    "\n",
    "query = \"What can one do about being prepared to fight?\"\n",
    "\n",
    "# Record the start time\n",
    "start_time = time.time()\n",
    "\n",
    "# Perform the similarity search\n",
    "docs = docsearch.similarity_search(query, k=10)\n",
    "\n",
    "# Calculate the elapsed time\n",
    "elapsed_time = time.time() - start_time\n",
    "\n",
    "\n",
    "print(docs[0].page_content)\n",
    "\n",
    "print(\"Similarity search using NMSLIB took {:.2f} seconds.\".format(elapsed_time))"
   ]
  },
  {
   "cell_type": "markdown",
   "metadata": {},
   "source": [
    "There is a measurable difference betIen NMSLIB and FAISS. "
   ]
  },
  {
   "cell_type": "code",
   "execution_count": 10,
   "metadata": {},
   "outputs": [
    {
     "name": "stdout",
     "output_type": "stream",
     "text": [
      "18. If asked how to cope with a great host of the enemy in orderly\n",
      "array and on the point of marching to the attack, I should say: \"Begin\n",
      "by seizing something which your opponent holds dear; then he will\n",
      "be amenable to your will.\" \n",
      "\n",
      "19. Rapidity is the essence of war: take advantage of the enemy's\n",
      "unreadiness, make your way by unexpected routes, and attack unguarded\n",
      "spots. \n",
      "\n",
      "20. The following are the principles to be observed by an invading\n",
      "force: The further you penetrate into a country, the greater will\n",
      "be the solidarity of your troops, and thus the defenders will not\n",
      "prevail against you. \n",
      "\n",
      "21. Make forays in fertile country in order to supply your army with\n",
      "food. \n",
      "\n",
      "22. Carefully study the well-being of your men, and do not overtax\n",
      "them. Concentrate your energy and hoard your strength. Keep your army\n",
      "continually on the move, and devise unfathomable plans.\n"
     ]
    }
   ],
   "source": [
    "query = \"What should one keep in mind when applying to college?\"\n",
    "docs = docsearch.similarity_search(query)\n",
    "print(docs[0].page_content)"
   ]
  },
  {
   "cell_type": "markdown",
   "metadata": {},
   "source": [
    "In this Jupyter notebook, I successfully demonstrate the process of building a semantic search system using two distinct in-memory vector databases: FAISS (Facebook AI Similarity Search) and OpenSearch. Initially, I take a sample PDF file and utilize the LangChain PDF loader to chunk the content, converting the text into embeddings using OpenAI's technology. These embeddings are then loaded into a FAISS in-memory store for semantic search. Through the Python Notebook, I show how to query the FAISS vector store, effectively performing similarity searches based on the embedded text.\n",
    "\n",
    "Subsequently, I transition to using OpenSearch, a scalable search engine, replacing FAISS while maintaining the same methodology. I load the same PDF into an OpenSearch index equipped with a KNN (k-nearest neighbour) search algorithm, using the same chunking algorithm provided by the LangChain PDF loader. Finally, I demonstrate querying the OpenSearch KNN-enabled index, thereby showcasing the ability to conduct semantic searches in a Python Notebook environment. This exercise not only highlights the versatility of semantic search technologies but also underscores my practical application of these advanced tools in processing and extracting meaningful information from text data."
   ]
  }
 ],
 "metadata": {
  "kernelspec": {
   "display_name": "venv",
   "language": "python",
   "name": "python3"
  },
  "language_info": {
   "codemirror_mode": {
    "name": "ipython",
    "version": 3
   },
   "file_extension": ".py",
   "mimetype": "text/x-python",
   "name": "python",
   "nbconvert_exporter": "python",
   "pygments_lexer": "ipython3",
   "version": "3.12.1"
  }
 },
 "nbformat": 4,
 "nbformat_minor": 2
}
