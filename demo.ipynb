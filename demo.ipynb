{
 "cells": [
  {
   "cell_type": "code",
   "execution_count": null,
   "metadata": {},
   "outputs": [],
   "source": [
    "from dotenv import load_dotenv\n",
    "load_dotenv()"
   ]
  },
  {
   "cell_type": "code",
   "execution_count": null,
   "metadata": {},
   "outputs": [],
   "source": [
    "from langchain.prompts import ChatPromptTemplate\n",
    "from langchain_community.chat_models import ChatOpenAI\n",
    "from langchain_core.output_parsers import StrOutputParser\n",
    "\n",
    "prompt = ChatPromptTemplate.from_template(\"tell me a short joke about {topic}\")\n",
    "model = ChatOpenAI()\n",
    "output_parser = trOutputParser()\n",
    "\n",
    "chain = prompt | model | output_parser\n",
    "\n",
    "chain.invoke({\"topic\": \"ice cream\"})"
   ]
  },
  {
   "cell_type": "code",
   "execution_count": null,
   "metadata": {},
   "outputs": [],
   "source": [
    "from langchain.llms import OpenAI\n",
    "from langchain.prompts import PromptTemplate\n",
    "from langchain.chains import LLMChain\n",
    "\n",
    "def generate_club_name(club_type):\n",
    "    llm = OpenAI(temperature = 0.7)\n",
    "    \n",
    "    prompt_template_name = PromptTemplate(\n",
    "        input_variables=['club_type'],\n",
    "        template = \"Suggest five cool names for a new {club_type} club. \"\n",
    "    )\n",
    "    name_chain = LLMChain(llm=llm, prompt = prompt_template_name)\n",
    "    \n",
    "    response = name_chain({'club_type' : club_type})\n",
    "    return response\n",
    "\n",
    "if __name__ == \"__main__\":\n",
    "    print(generate_club_name(\"Computer Engineering\"))\n",
    "    "
   ]
  },
  {
   "cell_type": "code",
   "execution_count": 1,
   "metadata": {},
   "outputs": [],
   "source": [
    "from langchain.llms import OpenAI\n",
    "from langchain.prompts import PromptTemplate\n",
    "from langchain.chains import LLMChain\n",
    "import random\n",
    "\n",
    "def generate_advice(situation):\n",
    "    llm = OpenAI(temperature=0.7)\n",
    "\n",
    "    # Load the Art of War text\n",
    "    with open(\"art_of_war.txt\", \"r\", encoding=\"utf-8\") as file:\n",
    "        art_of_war_text = file.read()\n",
    "\n",
    "    # Randomly select a passage from the text to base the advice on\n",
    "    passages = art_of_war_text.split(\"\\n\\n\")\n",
    "    selected_passage = random.choice(passages)\n",
    "\n",
    "    prompt_template_advice = PromptTemplate(\n",
    "        input_variables=['situation', 'selected_passage'],\n",
    "        template=\"Given the situation: '{situation}', what advice from this passage of Sun Tzu's Art of War would be most applicable? Passage: '{selected_passage}'. Advice: \"\n",
    "    )\n",
    "    advice_chain = LLMChain(llm=llm, prompt=prompt_template_advice, output_key=\"advice\")\n",
    "\n",
    "    response = advice_chain({'situation': situation, 'selected_passage': selected_passage})\n",
    "    \n",
    "    # Include the selected passage in the response for citation\n",
    "    response['selected_passage'] = selected_passage\n",
    "    return response\n"
   ]
  },
  {
   "cell_type": "code",
   "execution_count": 2,
   "metadata": {},
   "outputs": [
    {
     "name": "stdout",
     "output_type": "stream",
     "text": [
      "Situation: Negotiating a business deal\n",
      "\n",
      "Advice: \n",
      "The most applicable advice from this passage would be to prioritize gaining foreknowledge in the negotiation process. This means doing thorough research, understanding the other party's motivations and objectives, and anticipating potential obstacles or challenges. By having foreknowledge, one can strategize and make informed decisions that can lead to a successful negotiation and achieving objectives beyond what is typically achievable.\n",
      "\n",
      "Cited from 'The Art of War':\n",
      "4. Thus, what enables the wise sovereign and the good general to strike\n",
      "and conquer, and achieve things beyond the reach of ordinary men,\n",
      "is foreknowledge. \n"
     ]
    }
   ],
   "source": [
    "if __name__ == \"__main__\":\n",
    "    situation = \"Negotiating a business deal\"\n",
    "    response = generate_advice(situation)\n",
    "\n",
    "    # Extracting advice and the cited passage\n",
    "    advice = response.get('advice', 'No advice generated.')\n",
    "    cited_passage = response.get('selected_passage', 'No passage selected.')\n",
    "\n",
    "    # Formatting the output\n",
    "    print(f\"Situation: {situation}\\n\")\n",
    "    print(f\"Advice: {advice}\\n\")\n",
    "    print(f\"Cited from 'The Art of War':\\n{cited_passage}\")"
   ]
  }
 ],
 "metadata": {
  "kernelspec": {
   "display_name": "venv",
   "language": "python",
   "name": "python3"
  },
  "language_info": {
   "codemirror_mode": {
    "name": "ipython",
    "version": 3
   },
   "file_extension": ".py",
   "mimetype": "text/x-python",
   "name": "python",
   "nbconvert_exporter": "python",
   "pygments_lexer": "ipython3",
   "version": "3.12.1"
  }
 },
 "nbformat": 4,
 "nbformat_minor": 2
}
